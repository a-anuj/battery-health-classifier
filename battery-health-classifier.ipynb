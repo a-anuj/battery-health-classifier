{
 "cells": [
  {
   "cell_type": "code",
   "execution_count": 8,
   "id": "5a027946-2ab2-4305-a40e-48be01281796",
   "metadata": {},
   "outputs": [],
   "source": [
    "import pandas as pd\n",
    "import os\n",
    "os.environ[\"CUDA_VISIBLE_DEVICES\"] = \"-1\"\n",
    "import tensorflow as tf\n",
    "import numpy as np\n",
    "from tensorflow.keras.layers import Normalization,Dense\n",
    "from tensorflow.keras.models import Sequential\n",
    "from tensorflow.keras.losses import SparseCategoricalCrossentropy\n",
    "from sklearn.preprocessing import LabelEncoder"
   ]
  },
  {
   "cell_type": "code",
   "execution_count": 50,
   "id": "1b9987ef-079e-4214-90b0-b79781b7f423",
   "metadata": {},
   "outputs": [
    {
     "name": "stdout",
     "output_type": "stream",
     "text": [
      "   charge_cycles charging_pattern  voltage  temperature  internal_resistance  \\\n",
      "0           1176        overnight     3.97         57.7                57.91   \n",
      "1            910             fast     3.55         46.7                77.31   \n",
      "2           1344             slow     3.45         47.1                41.68   \n",
      "3           1180             slow     3.48         34.5                36.18   \n",
      "4           1145             slow     4.28         43.7                45.11   \n",
      "\n",
      "   discharge_rate  age_months  capacity_percent      health_status  \n",
      "0            1.51          42              99.7           Critical  \n",
      "1            0.95          59              68.8  Needs Maintenance  \n",
      "2            2.02          20              69.2           Critical  \n",
      "3            1.43           9              74.0           Critical  \n",
      "4            2.08          17              95.0           Critical  \n"
     ]
    }
   ],
   "source": [
    "df_final = pd.read_csv(\"battery_health_dataset.csv\")\n",
    "print(df.head())"
   ]
  },
  {
   "cell_type": "code",
   "execution_count": 52,
   "id": "8ad8abc6-3f58-4fea-a977-ba55b37f4a61",
   "metadata": {},
   "outputs": [],
   "source": [
    "label_encoder = LabelEncoder()\n",
    "y_train = label_encoder.fit_transform(df[\"health_status\"])"
   ]
  },
  {
   "cell_type": "code",
   "execution_count": 54,
   "id": "62592aef-9436-4cb7-a5be-e995b6a26cbe",
   "metadata": {},
   "outputs": [],
   "source": [
    "df = pd.get_dummies(df_final,columns=[\"charging_pattern\"])\n",
    "df = df.astype(int,errors=\"ignore\")"
   ]
  },
  {
   "cell_type": "code",
   "execution_count": 56,
   "id": "bdd46607-3578-465b-912e-a3059818d979",
   "metadata": {},
   "outputs": [
    {
     "name": "stdout",
     "output_type": "stream",
     "text": [
      "   charge_cycles  voltage  temperature  internal_resistance  discharge_rate  \\\n",
      "0           1176        3           57                   57               1   \n",
      "1            910        3           46                   77               0   \n",
      "2           1344        3           47                   41               2   \n",
      "3           1180        3           34                   36               1   \n",
      "4           1145        4           43                   45               2   \n",
      "\n",
      "   age_months  capacity_percent      health_status  charging_pattern_fast  \\\n",
      "0          42                99           Critical                      0   \n",
      "1          59                68  Needs Maintenance                      1   \n",
      "2          20                69           Critical                      0   \n",
      "3           9                74           Critical                      0   \n",
      "4          17                95           Critical                      0   \n",
      "\n",
      "   charging_pattern_overnight  charging_pattern_slow  \n",
      "0                           1                      0  \n",
      "1                           0                      0  \n",
      "2                           0                      1  \n",
      "3                           0                      1  \n",
      "4                           0                      1  \n"
     ]
    }
   ],
   "source": [
    "print(df.head())"
   ]
  },
  {
   "cell_type": "code",
   "execution_count": 64,
   "id": "cbcdef02-3e07-4a4f-aec4-b63bb428bc9e",
   "metadata": {},
   "outputs": [
    {
     "name": "stdout",
     "output_type": "stream",
     "text": [
      "     charge_cycles  voltage  temperature  internal_resistance  discharge_rate  \\\n",
      "0             1176        3           57                   57               1   \n",
      "1              910        3           46                   77               0   \n",
      "2             1344        3           47                   41               2   \n",
      "3             1180        3           34                   36               1   \n",
      "4             1145        4           43                   45               2   \n",
      "..             ...      ...          ...                  ...             ...   \n",
      "995            885        3           46                   37               0   \n",
      "996            773        3           55                   55               2   \n",
      "997            274        3           43                   23               2   \n",
      "998            581        3           45                   85               0   \n",
      "999            162        3           26                   86               0   \n",
      "\n",
      "     age_months  capacity_percent  charging_pattern_fast  \\\n",
      "0            42                99                      0   \n",
      "1            59                68                      1   \n",
      "2            20                69                      0   \n",
      "3             9                74                      0   \n",
      "4            17                95                      0   \n",
      "..          ...               ...                    ...   \n",
      "995          53                86                      1   \n",
      "996          30                55                      0   \n",
      "997          26                86                      1   \n",
      "998          16                52                      0   \n",
      "999          13                59                      0   \n",
      "\n",
      "     charging_pattern_overnight  charging_pattern_slow  \n",
      "0                             1                      0  \n",
      "1                             0                      0  \n",
      "2                             0                      1  \n",
      "3                             0                      1  \n",
      "4                             0                      1  \n",
      "..                          ...                    ...  \n",
      "995                           0                      0  \n",
      "996                           0                      1  \n",
      "997                           0                      0  \n",
      "998                           1                      0  \n",
      "999                           0                      1  \n",
      "\n",
      "[1000 rows x 10 columns]\n"
     ]
    }
   ],
   "source": [
    "x_train = df.drop([\"health_status\"],axis=1)\n",
    "print(x_train)"
   ]
  },
  {
   "cell_type": "code",
   "execution_count": 72,
   "id": "bef3e654-4596-42a8-947b-06204bf8fb11",
   "metadata": {},
   "outputs": [],
   "source": [
    "norm_l = Normalization()\n",
    "norm_l.adapt(x_train.values)\n",
    "x_train_norm = norm_l(x_train)"
   ]
  },
  {
   "cell_type": "code",
   "execution_count": 74,
   "id": "2cd4d95a-fd88-4422-ac27-e355192424e9",
   "metadata": {},
   "outputs": [
    {
     "name": "stdout",
     "output_type": "stream",
     "text": [
      "tf.Tensor(\n",
      "[[ 0.89376193 -0.5465358   1.5210199  ... -0.71294856  1.4152749\n",
      "  -0.70181006]\n",
      " [ 0.25736344 -0.5465358   0.56566    ...  1.4026257  -0.7065765\n",
      "  -0.70181006]\n",
      " [ 1.2956978  -0.5465358   0.6525109  ... -0.71294856 -0.7065765\n",
      "   1.424887  ]\n",
      " ...\n",
      " [-1.264251   -0.5465358   0.30510727 ...  1.4026257  -0.7065765\n",
      "  -0.70181006]\n",
      " [-0.529761   -0.5465358   0.4788091  ... -0.71294856  1.4152749\n",
      "  -0.70181006]\n",
      " [-1.5322082  -0.5465358  -1.1713581  ... -0.71294856 -0.7065765\n",
      "   1.424887  ]], shape=(1000, 10), dtype=float32)\n"
     ]
    }
   ],
   "source": [
    "print(x_train_norm)"
   ]
  },
  {
   "cell_type": "code",
   "execution_count": null,
   "id": "73aebf4f-99f2-40b5-8c85-c4a5b602ef07",
   "metadata": {},
   "outputs": [],
   "source": []
  }
 ],
 "metadata": {
  "kernelspec": {
   "display_name": "Python 3 (ipykernel)",
   "language": "python",
   "name": "python3"
  },
  "language_info": {
   "codemirror_mode": {
    "name": "ipython",
    "version": 3
   },
   "file_extension": ".py",
   "mimetype": "text/x-python",
   "name": "python",
   "nbconvert_exporter": "python",
   "pygments_lexer": "ipython3",
   "version": "3.12.7"
  }
 },
 "nbformat": 4,
 "nbformat_minor": 5
}
